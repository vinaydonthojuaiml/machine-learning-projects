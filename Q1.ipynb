{
  "cells": [
    {
      "cell_type": "markdown",
      "metadata": {
        "id": "view-in-github",
        "colab_type": "text"
      },
      "source": [
        "<a href=\"https://colab.research.google.com/github/vinaydonthojuaiml/machine-learning-projects/blob/main/Q1.ipynb\" target=\"_parent\"><img src=\"https://colab.research.google.com/assets/colab-badge.svg\" alt=\"Open In Colab\"/></a>"
      ]
    },
    {
      "cell_type": "markdown",
      "id": "764d0a27-a454-4e28-a5d6-9039a9fabbb3",
      "metadata": {
        "id": "764d0a27-a454-4e28-a5d6-9039a9fabbb3"
      },
      "source": [
        "# Q1. Housing Price Prediction\n",
        "\n",
        "Dataset Description: The data pertains to the houses found in each California district and some summary statistics about them based on the 1990 census data. It contains one instance per district block group. A block group is the smallest geographical unit for which the U.S. Census Bureau publishes sample data (a block group typically has a population of 600 to 3,000 people).\n",
        "\n",
        "The goal of this task is to design a regression model to predict the median house value conditioned upon a set of input attributes corresponding to a particular California district block.\n",
        "\n",
        "The attributes in the dataset are as follows; their names are self-explanatory:\n",
        "     \n",
        "\n",
        "    longitude (continuous): One of the coordinates that are used to identify the California district block\n",
        "     \n",
        "\n",
        "    latitude (continuous): One of the coordinates that are used to identify the California district block\n",
        "     \n",
        "\n",
        "    housing_median_age (continuous): Average age of the house in California district block\n",
        "     \n",
        "\n",
        "    total_rooms (continuous): Total number of rooms of all the houses in the California district block\n",
        "     \n",
        "\n",
        "    total_bedrooms (continuous): Total number of bedrooms of all the houses in the California district block\n",
        "     \n",
        "\n",
        "    population (continuous): Number of people residing in the district block\n",
        "     \n",
        "\n",
        "    households (continuous): Number of families in the district block\n",
        "     \n",
        "\n",
        "    median_income (continuous): Median income for households in the district block of houses (measured in tens of thousands of US Dollars)  \n",
        "     \n",
        "\n",
        "    ocean_proximity (categorical): Location of the house. Is it inland, near the bay, near the ocean, etc.  \n",
        "     \n",
        "\n",
        "    median_house_value.(continuous): Median house value within a district block (measured in US Dollars)\n",
        "\n",
        "Our target variable will be median_house_value.  Use the rest of the fields mentioned above to predict the median_house_value.\n",
        "\n",
        "## Import Libraries\n",
        "Import all necessary libraries"
      ]
    },
    {
      "cell_type": "code",
      "execution_count": null,
      "id": "d3de6346-1836-4312-8f21-777ac6b59e4f",
      "metadata": {
        "tags": [],
        "id": "d3de6346-1836-4312-8f21-777ac6b59e4f"
      },
      "outputs": [],
      "source": [
        "import pandas as pd\n",
        "import matplotlib.pyplot as plt\n",
        "from sklearn.preprocessing import StandardScaler\n",
        "from sklearn.model_selection import train_test_split\n",
        "from sklearn.preprocessing import MinMaxScaler\n",
        "from sklearn.linear_model import LinearRegression\n",
        "from sklearn.metrics import mean_squared_error\n",
        "from sklearn.decomposition import PCA\n",
        "import numpy as np\n",
        "from sklearn.metrics import mean_absolute_percentage_error\n",
        "from sklearn.metrics import r2_score\n",
        "import warnings\n",
        "warnings.filterwarnings(\"ignore\")"
      ]
    },
    {
      "cell_type": "markdown",
      "id": "422ee179-f70a-4a88-8b44-117deb549881",
      "metadata": {
        "id": "422ee179-f70a-4a88-8b44-117deb549881"
      },
      "source": [
        "### b. Data Loading / Preprocessing\n",
        "\n",
        "#### i. Loading\n",
        "\n",
        "1. Load the California housing dataset using `pandas.read_csv()` function and store it in the variable (i.e., a pandas dataframe) named `df’.\n",
        "\n",
        "2. The resulting data frame should have the shape (20640, 10) indicating that there are 20640 rows and 10 columns."
      ]
    },
    {
      "cell_type": "code",
      "execution_count": null,
      "id": "0715c8b5-c895-45a7-b3b7-f8ba38fef039",
      "metadata": {
        "id": "0715c8b5-c895-45a7-b3b7-f8ba38fef039",
        "outputId": "ac41d65f-6222-4201-aa82-939e28afe36b"
      },
      "outputs": [
        {
          "data": {
            "text/plain": [
              "(20640, 10)"
            ]
          },
          "execution_count": 3,
          "metadata": {},
          "output_type": "execute_result"
        }
      ],
      "source": [
        "df= pd.read_csv(\"housing.csv\")\n",
        "df.shape"
      ]
    },
    {
      "cell_type": "markdown",
      "id": "c0c2c788-2ad1-4cb8-b78a-435562a4cb68",
      "metadata": {
        "id": "c0c2c788-2ad1-4cb8-b78a-435562a4cb68"
      },
      "source": [
        "3. Find the missing values in the data frame. If any (i.e., even if one column in each instance / row has a missing value), drop the row using `pandas.DataFrame.dropna()` function. The resulting data frame should have the shape (20433, 10) indicating that there are 20433 rows and 10 columns."
      ]
    },
    {
      "cell_type": "code",
      "execution_count": null,
      "id": "a9e1a1f1-74fa-4710-95c4-030843a2d873",
      "metadata": {
        "id": "a9e1a1f1-74fa-4710-95c4-030843a2d873",
        "outputId": "eafe0d42-90a7-441e-f9d7-a4a5ad6d5029"
      },
      "outputs": [
        {
          "data": {
            "text/plain": [
              "longitude               0\n",
              "latitude                0\n",
              "housing_median_age      0\n",
              "total_rooms             0\n",
              "total_bedrooms        207\n",
              "population              0\n",
              "households              0\n",
              "median_income           0\n",
              "median_house_value      0\n",
              "ocean_proximity         0\n",
              "dtype: int64"
            ]
          },
          "execution_count": 5,
          "metadata": {},
          "output_type": "execute_result"
        }
      ],
      "source": [
        "df.isna().sum()"
      ]
    },
    {
      "cell_type": "code",
      "execution_count": null,
      "id": "af5b5c0c",
      "metadata": {
        "id": "af5b5c0c",
        "outputId": "b927c86c-d59c-406e-ee77-52620b6a70b1"
      },
      "outputs": [
        {
          "data": {
            "text/plain": [
              "(20433, 10)"
            ]
          },
          "execution_count": 6,
          "metadata": {},
          "output_type": "execute_result"
        }
      ],
      "source": [
        "df = df.dropna()\n",
        "df.shape"
      ]
    },
    {
      "cell_type": "markdown",
      "id": "1dcdaee1-691e-47ae-b90d-0cda36ccf0cd",
      "metadata": {
        "id": "1dcdaee1-691e-47ae-b90d-0cda36ccf0cd"
      },
      "source": [
        "4. Create a data frame `corr_df` by dropping the columns latitude, longitude, and ocean_proximity using the `pandas.DataFrame.drop()` function. Use the Pearson correlation to find the correlation of each remaining feature in the `corr_df` with the target variable `median_house_value` using the function `pandas.DataFrame.corrwith()`."
      ]
    },
    {
      "cell_type": "code",
      "execution_count": null,
      "id": "ef0b9cb4-39c9-4f08-859c-08e7d4a587b5",
      "metadata": {
        "id": "ef0b9cb4-39c9-4f08-859c-08e7d4a587b5",
        "outputId": "431d1032-7484-4aed-ff19-a534f6226cc8"
      },
      "outputs": [
        {
          "data": {
            "text/plain": [
              "housing_median_age    0.106432\n",
              "total_rooms           0.133294\n",
              "total_bedrooms        0.049686\n",
              "population           -0.025300\n",
              "households            0.064894\n",
              "median_income         0.688355\n",
              "median_house_value    1.000000\n",
              "dtype: float64"
            ]
          },
          "execution_count": 7,
          "metadata": {},
          "output_type": "execute_result"
        }
      ],
      "source": [
        "corr_df = df.drop(['latitude', 'longitude', 'ocean_proximity'], axis=1)\n",
        "correlations = corr_df.corrwith(df['median_house_value'])\n",
        "correlations"
      ]
    },
    {
      "cell_type": "markdown",
      "id": "46ddbc8b-dcf5-46ff-b4c6-eb02429318e7",
      "metadata": {
        "id": "46ddbc8b-dcf5-46ff-b4c6-eb02429318e7"
      },
      "source": [
        "#### ii. Data Visualization\n",
        "\n",
        "1. Use `pandas.DataFrame.hist(bins = 50)` function for visualizing the variation on the columns housing_median_age, total_rooms, total_bedrooms, population, household, median_income and median_house_value. Plot each histogram as a separate subplot."
      ]
    },
    {
      "cell_type": "code",
      "execution_count": null,
      "id": "0ff0dd03-191c-4264-8265-9f861f0e32b4",
      "metadata": {
        "id": "0ff0dd03-191c-4264-8265-9f861f0e32b4",
        "outputId": "4e38d1d2-d180-4dd2-fc3d-88654a78dfc3"
      },
      "outputs": [
        {
          "data": {
            "image/png": "[encoded data removed]",
            "text/plain": [
              "<Figure size 864x576 with 9 Axes>"
            ]
          },
          "metadata": {
            "needs_background": "light"
          },
          "output_type": "display_data"
        }
      ],
      "source": [
        "fig, axs = plt.subplots(nrows=3, ncols=3, figsize=(12, 8))\n",
        "\n",
        "df[['housing_median_age', 'total_rooms', 'total_bedrooms']].hist(bins=50, ax=axs[0, 0:3].ravel())\n",
        "df[['population', 'households', 'median_income']].hist(bins=50, ax=axs[1, 0:3].ravel())\n",
        "df[['median_house_value']].hist(bins=50, ax=axs[2:,0:1].ravel())\n",
        "\n",
        "plt.tight_layout()\n",
        "plt.show()"
      ]
    },
    {
      "cell_type": "markdown",
      "id": "bf638e98-eb4a-4fd6-9b12-251eb3d2ce00",
      "metadata": {
        "id": "bf638e98-eb4a-4fd6-9b12-251eb3d2ce00"
      },
      "source": [
        "2. Use `pandas.dataframe.describe()` function to find the mean, median and standard deviations for each feature and report in the jupyter notebook."
      ]
    },
    {
      "cell_type": "code",
      "execution_count": null,
      "id": "4993254e-ebfb-4f22-98d7-2e646c7e53d4",
      "metadata": {
        "id": "4993254e-ebfb-4f22-98d7-2e646c7e53d4",
        "outputId": "be387a09-5554-4dc9-f20c-b9921310c413"
      },
      "outputs": [
        {
          "data": {
            "text/html": [
              "<div><div id=8fb9ca40-ae22-4928-9018-583de8860751 style=\"display:none; background-color:#9D6CFF; color:white; width:200px; height:30px; padding-left:5px; border-radius:4px; flex-direction:row; justify-content:space-around; align-items:center;\" onmouseover=\"this.style.backgroundColor='#BA9BF8'\" onmouseout=\"this.style.backgroundColor='#9D6CFF'\" onclick=\"window.commands?.execute('create-mitosheet-from-dataframe-output');\">See Full Dataframe in Mito</div> <script> if (window.commands?.hasCommand('create-mitosheet-from-dataframe-output')) document.getElementById('8fb9ca40-ae22-4928-9018-583de8860751').style.display = 'flex' </script> <table border=\"1\" class=\"dataframe\">\n",
              "  <thead>\n",
              "    <tr style=\"text-align: right;\">\n",
              "      <th></th>\n",
              "      <th>longitude</th>\n",
              "      <th>latitude</th>\n",
              "      <th>housing_median_age</th>\n",
              "      <th>total_rooms</th>\n",
              "      <th>total_bedrooms</th>\n",
              "      <th>population</th>\n",
              "      <th>households</th>\n",
              "      <th>median_income</th>\n",
              "      <th>median_house_value</th>\n",
              "    </tr>\n",
              "  </thead>\n",
              "  <tbody>\n",
              "    <tr>\n",
              "      <th>count</th>\n",
              "      <td>20433.000000</td>\n",
              "      <td>20433.000000</td>\n",
              "      <td>20433.000000</td>\n",
              "      <td>20433.000000</td>\n",
              "      <td>20433.000000</td>\n",
              "      <td>20433.000000</td>\n",
              "      <td>20433.000000</td>\n",
              "      <td>20433.000000</td>\n",
              "      <td>20433.000000</td>\n",
              "    </tr>\n",
              "    <tr>\n",
              "      <th>mean</th>\n",
              "      <td>-119.570689</td>\n",
              "      <td>35.633221</td>\n",
              "      <td>28.633094</td>\n",
              "      <td>2636.504233</td>\n",
              "      <td>537.870553</td>\n",
              "      <td>1424.946949</td>\n",
              "      <td>499.433465</td>\n",
              "      <td>3.871162</td>\n",
              "      <td>206864.413155</td>\n",
              "    </tr>\n",
              "    <tr>\n",
              "      <th>std</th>\n",
              "      <td>2.003578</td>\n",
              "      <td>2.136348</td>\n",
              "      <td>12.591805</td>\n",
              "      <td>2185.269567</td>\n",
              "      <td>421.385070</td>\n",
              "      <td>1133.208490</td>\n",
              "      <td>382.299226</td>\n",
              "      <td>1.899291</td>\n",
              "      <td>115435.667099</td>\n",
              "    </tr>\n",
              "    <tr>\n",
              "      <th>min</th>\n",
              "      <td>-124.350000</td>\n",
              "      <td>32.540000</td>\n",
              "      <td>1.000000</td>\n",
              "      <td>2.000000</td>\n",
              "      <td>1.000000</td>\n",
              "      <td>3.000000</td>\n",
              "      <td>1.000000</td>\n",
              "      <td>0.499900</td>\n",
              "      <td>14999.000000</td>\n",
              "    </tr>\n",
              "    <tr>\n",
              "      <th>25%</th>\n",
              "      <td>-121.800000</td>\n",
              "      <td>33.930000</td>\n",
              "      <td>18.000000</td>\n",
              "      <td>1450.000000</td>\n",
              "      <td>296.000000</td>\n",
              "      <td>787.000000</td>\n",
              "      <td>280.000000</td>\n",
              "      <td>2.563700</td>\n",
              "      <td>119500.000000</td>\n",
              "    </tr>\n",
              "    <tr>\n",
              "      <th>50%</th>\n",
              "      <td>-118.490000</td>\n",
              "      <td>34.260000</td>\n",
              "      <td>29.000000</td>\n",
              "      <td>2127.000000</td>\n",
              "      <td>435.000000</td>\n",
              "      <td>1166.000000</td>\n",
              "      <td>409.000000</td>\n",
              "      <td>3.536500</td>\n",
              "      <td>179700.000000</td>\n",
              "    </tr>\n",
              "    <tr>\n",
              "      <th>75%</th>\n",
              "      <td>-118.010000</td>\n",
              "      <td>37.720000</td>\n",
              "      <td>37.000000</td>\n",
              "      <td>3143.000000</td>\n",
              "      <td>647.000000</td>\n",
              "      <td>1722.000000</td>\n",
              "      <td>604.000000</td>\n",
              "      <td>4.744000</td>\n",
              "      <td>264700.000000</td>\n",
              "    </tr>\n",
              "    <tr>\n",
              "      <th>max</th>\n",
              "      <td>-114.310000</td>\n",
              "      <td>41.950000</td>\n",
              "      <td>52.000000</td>\n",
              "      <td>39320.000000</td>\n",
              "      <td>6445.000000</td>\n",
              "      <td>35682.000000</td>\n",
              "      <td>6082.000000</td>\n",
              "      <td>15.000100</td>\n",
              "      <td>500001.000000</td>\n",
              "    </tr>\n",
              "  </tbody>\n",
              "</table></div>"
            ],
            "text/plain": [
              "          longitude      latitude  housing_median_age   total_rooms  \\\n",
              "count  20433.000000  20433.000000        20433.000000  20433.000000   \n",
              "mean    -119.570689     35.633221           28.633094   2636.504233   \n",
              "std        2.003578      2.136348           12.591805   2185.269567   \n",
              "min     -124.350000     32.540000            1.000000      2.000000   \n",
              "25%     -121.800000     33.930000           18.000000   1450.000000   \n",
              "50%     -118.490000     34.260000           29.000000   2127.000000   \n",
              "75%     -118.010000     37.720000           37.000000   3143.000000   \n",
              "max     -114.310000     41.950000           52.000000  39320.000000   \n",
              "\n",
              "       total_bedrooms    population    households  median_income  \\\n",
              "count    20433.000000  20433.000000  20433.000000   20433.000000   \n",
              "mean       537.870553   1424.946949    499.433465       3.871162   \n",
              "std        421.385070   1133.208490    382.299226       1.899291   \n",
              "min          1.000000      3.000000      1.000000       0.499900   \n",
              "25%        296.000000    787.000000    280.000000       2.563700   \n",
              "50%        435.000000   1166.000000    409.000000       3.536500   \n",
              "75%        647.000000   1722.000000    604.000000       4.744000   \n",
              "max       6445.000000  35682.000000   6082.000000      15.000100   \n",
              "\n",
              "       median_house_value  \n",
              "count        20433.000000  \n",
              "mean        206864.413155  \n",
              "std         115435.667099  \n",
              "min          14999.000000  \n",
              "25%         119500.000000  \n",
              "50%         179700.000000  \n",
              "75%         264700.000000  \n",
              "max         500001.000000  "
            ]
          },
          "execution_count": 8,
          "metadata": {},
          "output_type": "execute_result"
        }
      ],
      "source": [
        "df.describe()"
      ]
    },
    {
      "cell_type": "code",
      "execution_count": null,
      "id": "6dcffdc5",
      "metadata": {
        "id": "6dcffdc5"
      },
      "outputs": [],
      "source": [
        "from"
      ]
    },
    {
      "cell_type": "markdown",
      "id": "9e5fa925-788d-45a7-bfd4-9d688abb3696",
      "metadata": {
        "id": "9e5fa925-788d-45a7-bfd4-9d688abb3696"
      },
      "source": [
        "Create a data frame `X` of features (by dropping the column `median_house_value` from the original data frame) using the `pandas.DataFrame.drop()` function. Create a Series object of targets `Y` (by only considering the `median_house_value` column from the original data frame (Do NOT use the `corr_df` data frame in this step. Use the data frame which was obtained as a result of step 3 above)."
      ]
    },
    {
      "cell_type": "code",
      "execution_count": null,
      "id": "c8c01708-a2c9-4221-92a5-5955ba328ff8",
      "metadata": {
        "id": "c8c01708-a2c9-4221-92a5-5955ba328ff8"
      },
      "outputs": [],
      "source": [
        "# Create X by dropping the \"median_house_value\" column\n",
        "X = df.drop('median_house_value', axis=1)\n",
        "\n",
        "# Create Y by selecting the \"median_house_value\" column\n",
        "Y = df['median_house_value']"
      ]
    },
    {
      "cell_type": "markdown",
      "id": "cc7d7c60-763c-4487-8ab7-3c194ca384a9",
      "metadata": {
        "id": "cc7d7c60-763c-4487-8ab7-3c194ca384a9"
      },
      "source": [
        "3. Use `pandas.get_dummies` to convert categorical variables into dummy /one-hot encoding. In this case the categorical column is ocean_proximity"
      ]
    },
    {
      "cell_type": "code",
      "execution_count": null,
      "id": "6ea65923-0d3d-465e-8c1c-fea0e11416b4",
      "metadata": {
        "id": "6ea65923-0d3d-465e-8c1c-fea0e11416b4",
        "outputId": "3c2cf4b5-5c07-4c2b-ce28-d359e8f5950e"
      },
      "outputs": [
        {
          "data": {
            "text/plain": [
              "(20433, 13)"
            ]
          },
          "execution_count": 11,
          "metadata": {},
          "output_type": "execute_result"
        }
      ],
      "source": [
        "# create a new DataFrame with one-hot encoded columns for ocean_proximity\n",
        "ocean_proximity_dummies = pd.get_dummies(X['ocean_proximity'], prefix='ocean_proximity')\n",
        "# add the one-hot encoded columns to the original DataFrame\n",
        "X = pd.concat([X, ocean_proximity_dummies], axis=1)\n",
        "# drop the original ocean_proximity column\n",
        "X = X.drop('ocean_proximity', axis=1)\n",
        "X.shape"
      ]
    },
    {
      "cell_type": "markdown",
      "id": "d3de9798-341c-4fad-bb69-e07655a5859c",
      "metadata": {
        "id": "d3de9798-341c-4fad-bb69-e07655a5859c"
      },
      "source": [
        "#### iii. Data Splitting\n",
        "\n",
        "1. Split data into training and test sets using the sklearn `train_test_split()` function. Perform 70-30 distribution i.e. 70% training and 30% testing. The result of your data split should yield 4 separate data frames `X_train, X_test, y_train, y_test`. (respectively, the training features, testing features, training targets and testing target)."
      ]
    },
    {
      "cell_type": "code",
      "execution_count": null,
      "id": "2000c4f2-41e6-49d3-807e-c77b86c4e60c",
      "metadata": {
        "id": "2000c4f2-41e6-49d3-807e-c77b86c4e60c"
      },
      "outputs": [],
      "source": [
        "# split the data into training and test sets, with a 70-30 distribution\n",
        "X_train, X_test, y_train, y_test = train_test_split(X, Y, test_size=0.3, random_state=42)"
      ]
    },
    {
      "cell_type": "code",
      "execution_count": null,
      "id": "1ced96a2",
      "metadata": {
        "id": "1ced96a2",
        "outputId": "7e5428a2-366e-4947-b6ca-7e17428a0b8e"
      },
      "outputs": [
        {
          "data": {
            "text/plain": [
              "Index(['longitude', 'latitude', 'housing_median_age', 'total_rooms',\n",
              "       'total_bedrooms', 'population', 'households', 'median_income',\n",
              "       'ocean_proximity_<1H OCEAN', 'ocean_proximity_INLAND',\n",
              "       'ocean_proximity_ISLAND', 'ocean_proximity_NEAR BAY',\n",
              "       'ocean_proximity_NEAR OCEAN'],\n",
              "      dtype='object')"
            ]
          },
          "execution_count": 13,
          "metadata": {},
          "output_type": "execute_result"
        }
      ],
      "source": [
        "#Storing the column names\n",
        "X_columns=X.columns\n",
        "y_columns = [\"median_house_value\"]\n",
        "X_columns"
      ]
    },
    {
      "cell_type": "markdown",
      "id": "fc6cdeca-0f98-4039-8191-61cef7338869",
      "metadata": {
        "id": "fc6cdeca-0f98-4039-8191-61cef7338869"
      },
      "source": [
        "#### iv. Data Scaling\n",
        "\n",
        "1. Use the `StandardScaler()` to instantiate the standard scaler class. Note: You will need two separate scaler objects, one to scale the features, another to scale the target values."
      ]
    },
    {
      "cell_type": "code",
      "execution_count": null,
      "id": "11372a31-8e9d-4d9c-b79e-925cbcc1d752",
      "metadata": {
        "id": "11372a31-8e9d-4d9c-b79e-925cbcc1d752"
      },
      "outputs": [],
      "source": [
        "from sklearn.preprocessing import StandardScaler\n",
        "# create separate scaler objects for features and target values\n",
        "scaler_X = StandardScaler()\n",
        "scaler_y = StandardScaler()"
      ]
    },
    {
      "cell_type": "markdown",
      "id": "e3b7c211-b7eb-4778-9145-9d23da103eb9",
      "metadata": {
        "id": "e3b7c211-b7eb-4778-9145-9d23da103eb9"
      },
      "source": [
        "2. For each scaler, employ the `fit_transform()` function (only on the training  features, training targets) of the scaler to retrieve the new (scaled) version of the data. Store them in `X_train`, and `y_train` again"
      ]
    },
    {
      "cell_type": "code",
      "execution_count": null,
      "id": "f826b031-b5eb-481b-83a3-1533b766cdf5",
      "metadata": {
        "id": "f826b031-b5eb-481b-83a3-1533b766cdf5"
      },
      "outputs": [],
      "source": [
        "# fit the scaler objects to the training data and transform the training data\n",
        "X_train = scaler_X.fit_transform(X_train)\n",
        "y_train = scaler_y.fit_transform(y_train.values.reshape(-1,1))"
      ]
    },
    {
      "cell_type": "markdown",
      "id": "a5131ddd-6593-4ad3-b9aa-47635785d50f",
      "metadata": {
        "id": "a5131ddd-6593-4ad3-b9aa-47635785d50f"
      },
      "source": [
        "3. Scale the `X_test` and `y_test` as well and store the scaled values back in `X_test` and `y_test`. (i.e., use the appropriate “fitted” scaler above to “transform” the test data. Note: the function to be employed in this case is `transform()` as opposed to `fit_transform()`).  \n",
        "Henceforth, `X_train, y_train, X_test, y_test` will refer to the scaled data unless stated otherwise."
      ]
    },
    {
      "cell_type": "code",
      "execution_count": null,
      "id": "2eb9a66d-7b9e-4de9-a8ec-3dcadef69bc4",
      "metadata": {
        "id": "2eb9a66d-7b9e-4de9-a8ec-3dcadef69bc4"
      },
      "outputs": [],
      "source": [
        "# transform the test data using the fitted scaler objects\n",
        "X_test = scaler_X.transform(X_test)\n",
        "y_test = scaler_y.transform(y_test.values.reshape(-1,1))"
      ]
    },
    {
      "cell_type": "markdown",
      "id": "9d85dae5-dd57-4e72-9761-b2cd10dbd486",
      "metadata": {
        "id": "9d85dae5-dd57-4e72-9761-b2cd10dbd486"
      },
      "source": [
        "### c. Modelling\n",
        "\n",
        "#### i. Employ Linear Regression from sklearn.linear_model, and instantiate the model."
      ]
    },
    {
      "cell_type": "code",
      "execution_count": null,
      "id": "175f360a-0218-4f6a-b561-cde7c1a85b1e",
      "metadata": {
        "id": "175f360a-0218-4f6a-b561-cde7c1a85b1e"
      },
      "outputs": [],
      "source": [
        "lin_reg = LinearRegression()"
      ]
    },
    {
      "cell_type": "markdown",
      "id": "b16fc923-4ef7-4234-b2f4-590a6a38f667",
      "metadata": {
        "id": "b16fc923-4ef7-4234-b2f4-590a6a38f667"
      },
      "source": [
        "#### ii. Once instantiated, `fit()` the model using the scaled `X_train, y_train` data."
      ]
    },
    {
      "cell_type": "code",
      "execution_count": null,
      "id": "82ed32ed-22ef-4abb-a26c-c7734f0b68a5",
      "metadata": {
        "id": "82ed32ed-22ef-4abb-a26c-c7734f0b68a5",
        "outputId": "4cfd7081-c377-4885-865b-c59e8dd58e38"
      },
      "outputs": [
        {
          "data": {
            "text/html": [
              "<style>#sk-container-id-1 {color: black;background-color: white;}#sk-container-id-1 pre{padding: 0;}#sk-container-id-1 div.sk-toggleable {background-color: white;}#sk-container-id-1 label.sk-toggleable__label {cursor: pointer;display: block;width: 100%;margin-bottom: 0;padding: 0.3em;box-sizing: border-box;text-align: center;}#sk-container-id-1 label.sk-toggleable__label-arrow:before {content: \"▸\";float: left;margin-right: 0.25em;color: #696969;}#sk-container-id-1 label.sk-toggleable__label-arrow:hover:before {color: black;}#sk-container-id-1 div.sk-estimator:hover label.sk-toggleable__label-arrow:before {color: black;}#sk-container-id-1 div.sk-toggleable__content {max-height: 0;max-width: 0;overflow: hidden;text-align: left;background-color: #f0f8ff;}#sk-container-id-1 div.sk-toggleable__content pre {margin: 0.2em;color: black;border-radius: 0.25em;background-color: #f0f8ff;}#sk-container-id-1 input.sk-toggleable__control:checked~div.sk-toggleable__content {max-height: 200px;max-width: 100%;overflow: auto;}#sk-container-id-1 input.sk-toggleable__control:checked~label.sk-toggleable__label-arrow:before {content: \"▾\";}#sk-container-id-1 div.sk-estimator input.sk-toggleable__control:checked~label.sk-toggleable__label {background-color: #d4ebff;}#sk-container-id-1 div.sk-label input.sk-toggleable__control:checked~label.sk-toggleable__label {background-color: #d4ebff;}#sk-container-id-1 input.sk-hidden--visually {border: 0;clip: rect(1px 1px 1px 1px);clip: rect(1px, 1px, 1px, 1px);height: 1px;margin: -1px;overflow: hidden;padding: 0;position: absolute;width: 1px;}#sk-container-id-1 div.sk-estimator {font-family: monospace;background-color: #f0f8ff;border: 1px dotted black;border-radius: 0.25em;box-sizing: border-box;margin-bottom: 0.5em;}#sk-container-id-1 div.sk-estimator:hover {background-color: #d4ebff;}#sk-container-id-1 div.sk-parallel-item::after {content: \"\";width: 100%;border-bottom: 1px solid gray;flex-grow: 1;}#sk-container-id-1 div.sk-label:hover label.sk-toggleable__label {background-color: #d4ebff;}#sk-container-id-1 div.sk-serial::before {content: \"\";position: absolute;border-left: 1px solid gray;box-sizing: border-box;top: 0;bottom: 0;left: 50%;z-index: 0;}#sk-container-id-1 div.sk-serial {display: flex;flex-direction: column;align-items: center;background-color: white;padding-right: 0.2em;padding-left: 0.2em;position: relative;}#sk-container-id-1 div.sk-item {position: relative;z-index: 1;}#sk-container-id-1 div.sk-parallel {display: flex;align-items: stretch;justify-content: center;background-color: white;position: relative;}#sk-container-id-1 div.sk-item::before, #sk-container-id-1 div.sk-parallel-item::before {content: \"\";position: absolute;border-left: 1px solid gray;box-sizing: border-box;top: 0;bottom: 0;left: 50%;z-index: -1;}#sk-container-id-1 div.sk-parallel-item {display: flex;flex-direction: column;z-index: 1;position: relative;background-color: white;}#sk-container-id-1 div.sk-parallel-item:first-child::after {align-self: flex-end;width: 50%;}#sk-container-id-1 div.sk-parallel-item:last-child::after {align-self: flex-start;width: 50%;}#sk-container-id-1 div.sk-parallel-item:only-child::after {width: 0;}#sk-container-id-1 div.sk-dashed-wrapped {border: 1px dashed gray;margin: 0 0.4em 0.5em 0.4em;box-sizing: border-box;padding-bottom: 0.4em;background-color: white;}#sk-container-id-1 div.sk-label label {font-family: monospace;font-weight: bold;display: inline-block;line-height: 1.2em;}#sk-container-id-1 div.sk-label-container {text-align: center;}#sk-container-id-1 div.sk-container {/* jupyter's `normalize.less` sets `[hidden] { display: none; }` but bootstrap.min.css set `[hidden] { display: none !important; }` so we also need the `!important` here to be able to override the default hidden behavior on the sphinx rendered scikit-learn.org. See: https://github.com/scikit-learn/scikit-learn/issues/21755 */display: inline-block !important;position: relative;}#sk-container-id-1 div.sk-text-repr-fallback {display: none;}</style><div id=\"sk-container-id-1\" class=\"sk-top-container\"><div class=\"sk-text-repr-fallback\"><pre>LinearRegression()</pre><b>In a Jupyter environment, please rerun this cell to show the HTML representation or trust the notebook. <br />On GitHub, the HTML representation is unable to render, please try loading this page with nbviewer.org.</b></div><div class=\"sk-container\" hidden><div class=\"sk-item\"><div class=\"sk-estimator sk-toggleable\"><input class=\"sk-toggleable__control sk-hidden--visually\" id=\"sk-estimator-id-1\" type=\"checkbox\" checked><label for=\"sk-estimator-id-1\" class=\"sk-toggleable__label sk-toggleable__label-arrow\">LinearRegression</label><div class=\"sk-toggleable__content\"><pre>LinearRegression()</pre></div></div></div></div></div>"
            ],
            "text/plain": [
              "LinearRegression()"
            ]
          },
          "execution_count": 22,
          "metadata": {},
          "output_type": "execute_result"
        }
      ],
      "source": [
        "lin_reg.fit(X_train, y_train)"
      ]
    },
    {
      "cell_type": "markdown",
      "id": "7a09f41e-46b4-4f0b-9f63-5aa6e35eca7b",
      "metadata": {
        "id": "7a09f41e-46b4-4f0b-9f63-5aa6e35eca7b"
      },
      "source": [
        "#### iii. Employ the `predict()` function to obtain predictions on `X_test`. Store the predictions in a variable named `y_preds`. Note: Since the model has been trained on scaled data (i.e., both features and targets, the predictions will also be in the “scaled” space. We need to transform the predictions back to the original space)."
      ]
    },
    {
      "cell_type": "code",
      "execution_count": null,
      "id": "e96ff705-4922-472b-a885-00bd822c9b7a",
      "metadata": {
        "id": "e96ff705-4922-472b-a885-00bd822c9b7a"
      },
      "outputs": [],
      "source": [
        "# obtain predictions on X_test\n",
        "y_preds = lin_reg.predict(X_test)"
      ]
    },
    {
      "cell_type": "code",
      "execution_count": null,
      "id": "b565235b",
      "metadata": {
        "id": "b565235b",
        "outputId": "c2317e43-1ade-4c80-9d2b-0410cf514871"
      },
      "outputs": [
        {
          "data": {
            "text/plain": [
              "array([[-0.04483333],\n",
              "       [-0.51814817],\n",
              "       [ 0.01245373],\n",
              "       ...,\n",
              "       [-0.55279411],\n",
              "       [-1.36720465],\n",
              "       [-0.98559782]])"
            ]
          },
          "execution_count": 25,
          "metadata": {},
          "output_type": "execute_result"
        }
      ],
      "source": [
        "y_preds"
      ]
    },
    {
      "cell_type": "code",
      "execution_count": null,
      "id": "94351b2b",
      "metadata": {
        "id": "94351b2b",
        "outputId": "55bc4cde-f3d3-4ce2-bd43-d07ab500563c"
      },
      "outputs": [
        {
          "data": {
            "text/plain": [
              "array([[ 0.33370662],\n",
              "       [-0.6011497 ],\n",
              "       [ 0.09457748],\n",
              "       ...,\n",
              "       [-1.03002261],\n",
              "       [-1.1244613 ],\n",
              "       [-1.16431615]])"
            ]
          },
          "execution_count": 27,
          "metadata": {},
          "output_type": "execute_result"
        }
      ],
      "source": [
        "y_test"
      ]
    },
    {
      "cell_type": "markdown",
      "id": "4330dab2-1121-4abe-8782-94f83ee2ec1f",
      "metadata": {
        "id": "4330dab2-1121-4abe-8782-94f83ee2ec1f"
      },
      "source": [
        "#### iv. Use `inverse_transform()` function to convert the normalized data (`y_preds` ) to original scale. Store the transformed values back into `y_preds`."
      ]
    },
    {
      "cell_type": "code",
      "execution_count": null,
      "id": "53b22039-ba77-4e6f-a898-b440a9f2d197",
      "metadata": {
        "id": "53b22039-ba77-4e6f-a898-b440a9f2d197"
      },
      "outputs": [],
      "source": [
        "# transform predictions back to original space\n",
        "y_preds = scaler_y.inverse_transform(y_preds)"
      ]
    },
    {
      "cell_type": "code",
      "execution_count": null,
      "id": "aec04aee",
      "metadata": {
        "id": "aec04aee",
        "outputId": "3f300199-4a41-4f9c-a72d-eabce0d820ae"
      },
      "outputs": [
        {
          "data": {
            "text/plain": [
              "array([[202109.37052289],\n",
              "       [147479.93670238],\n",
              "       [208721.37459757],\n",
              "       ...,\n",
              "       [143481.14370264],\n",
              "       [ 49482.85200095],\n",
              "       [ 93527.45605917]])"
            ]
          },
          "execution_count": 29,
          "metadata": {},
          "output_type": "execute_result"
        }
      ],
      "source": [
        "y_preds"
      ]
    },
    {
      "cell_type": "markdown",
      "id": "0e53d682-6844-4440-b669-608eecd92ef1",
      "metadata": {
        "id": "0e53d682-6844-4440-b669-608eecd92ef1"
      },
      "source": [
        "2. Calculate the total percentage of variance captured by the 2 PCA components using `pca.explained_variance_ratio_`. Also, report the strength of each PCA component using `pca.singular_values_`."
      ]
    },
    {
      "cell_type": "markdown",
      "id": "bfa373cb-33f5-4fdb-9e82-6b5de5c18e16",
      "metadata": {
        "id": "bfa373cb-33f5-4fdb-9e82-6b5de5c18e16"
      },
      "source": [
        "### d. Evaluation\n",
        "\n",
        "#### i. Plot a scatter plot using matplotlib.pyplot.scatter function. Plot the predicted median house values on the y-axis vs the actual median house values on the x-axis"
      ]
    },
    {
      "cell_type": "code",
      "execution_count": null,
      "id": "9c45488f-1df8-4cc2-865d-5113ef7e6aea",
      "metadata": {
        "id": "9c45488f-1df8-4cc2-865d-5113ef7e6aea",
        "outputId": "1435d571-8482-4870-98f7-cf494af0ad9e"
      },
      "outputs": [
        {
          "data": {
            "image/png": "[encoded data removed]",
            "text/plain": [
              "<Figure size 432x288 with 1 Axes>"
            ]
          },
          "metadata": {
            "needs_background": "light"
          },
          "output_type": "display_data"
        }
      ],
      "source": [
        "# transform the predicted values back to original space\n",
        "y_test = scaler_y.inverse_transform(y_test)\n",
        "\n",
        "# plot actual vs predicted values\n",
        "plt.scatter(y_test, y_preds, alpha=0.5)\n",
        "plt.xlabel('Actual Median House Value')\n",
        "plt.ylabel('Predicted Median House Value')\n",
        "plt.title('Actual vs Predicted Median House Values')\n",
        "plt.show()"
      ]
    },
    {
      "cell_type": "markdown",
      "id": "faf7711e-f2f3-443e-a0ce-05d7dc77c0c9",
      "metadata": {
        "id": "faf7711e-f2f3-443e-a0ce-05d7dc77c0c9"
      },
      "source": [
        "#### ii. Calculate MAPE, RMSE and R2 for the model and report them in the following table.  \n",
        "Hint: for RMSE set the squared parameter to False."
      ]
    },
    {
      "cell_type": "code",
      "execution_count": null,
      "id": "b2ffc813-3968-49d4-9477-7c37f96e50ce",
      "metadata": {
        "id": "b2ffc813-3968-49d4-9477-7c37f96e50ce",
        "outputId": "8b4e8d50-b9c3-495f-ed5a-e6e84fefcaf9"
      },
      "outputs": [
        {
          "name": "stdout",
          "output_type": "stream",
          "text": [
            "MAPE: 0.28734868915069756\n",
            "RMSE: 67927.63804195386\n",
            "R2: 0.6538753735673424\n"
          ]
        }
      ],
      "source": [
        "# Calculate MAPE\n",
        "mape = mean_absolute_percentage_error(y_test, y_preds)\n",
        "\n",
        "# Calculate RMSE\n",
        "rmse = mean_squared_error(y_test, y_preds, squared=False)\n",
        "\n",
        "# Calculate R2\n",
        "r2 = r2_score(y_test, y_preds)\n",
        "\n",
        "# Print the results\n",
        "print(\"MAPE:\", mape)\n",
        "print(\"RMSE:\", rmse)\n",
        "print(\"R2:\", r2)\n"
      ]
    },
    {
      "cell_type": "code",
      "execution_count": null,
      "id": "e29bbc97",
      "metadata": {
        "id": "e29bbc97"
      },
      "outputs": [],
      "source": []
    },
    {
      "cell_type": "code",
      "execution_count": null,
      "id": "e802790c",
      "metadata": {
        "id": "e802790c"
      },
      "outputs": [],
      "source": []
    },
    {
      "cell_type": "code",
      "execution_count": null,
      "id": "a2c7b8ab",
      "metadata": {
        "id": "a2c7b8ab"
      },
      "outputs": [],
      "source": []
    },
    {
      "cell_type": "code",
      "execution_count": null,
      "id": "6b73cadb",
      "metadata": {
        "id": "6b73cadb"
      },
      "outputs": [],
      "source": []
    },
    {
      "cell_type": "code",
      "execution_count": null,
      "id": "b97ad4bc",
      "metadata": {
        "id": "b97ad4bc"
      },
      "outputs": [],
      "source": []
    },
    {
      "cell_type": "code",
      "execution_count": null,
      "id": "4c4f14f7",
      "metadata": {
        "id": "4c4f14f7"
      },
      "outputs": [],
      "source": []
    }
  ],
  "metadata": {
    "kernelspec": {
      "display_name": "Python 3 (ipykernel)",
      "language": "python",
      "name": "python3"
    },
    "language_info": {
      "codemirror_mode": {
        "name": "ipython",
        "version": 3
      },
      "file_extension": ".py",
      "mimetype": "text/x-python",
      "name": "python",
      "nbconvert_exporter": "python",
      "pygments_lexer": "ipython3",
      "version": "3.9.7"
    },
    "colab": {
      "provenance": [],
      "include_colab_link": true
    }
  },
  "nbformat": 4,
  "nbformat_minor": 5
}