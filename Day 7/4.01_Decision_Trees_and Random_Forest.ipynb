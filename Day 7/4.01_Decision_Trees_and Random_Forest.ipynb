{
 "cells": [
  {
   "cell_type": "markdown",
   "metadata": {
    "id": "Jq9GPMWyPlu3"
   },
   "source": [
    "# **Decision Trees and Random Forest**"
   ]
  },
  {
   "cell_type": "markdown",
   "metadata": {
    "id": "ld2Xt3tXPq1W"
   },
   "source": [
    "## **Agenda**"
   ]
  },
  {
   "cell_type": "markdown",
   "metadata": {
    "id": "xAmn9_6uPswa"
   },
   "source": [
    "In this lesson, we will cover the following concepts of classification with the help of a business use case:\n",
    "* Decision Tree\n",
    "* Random Forest\n",
    "* Bagging and Bootstrapping"
   ]
  },
  {
   "cell_type": "markdown",
   "metadata": {
    "id": "3O-DvxyLCZjX"
   },
   "source": [
    "### **Decision Tree**"
   ]
  },
  {
   "cell_type": "markdown",
   "metadata": {
    "id": "cq5DF2dzCbq7"
   },
   "source": [
    "Let us understand the basics of Decision Tree and its components with the help of a diagram.\n",
    "\n",
    "![DT1](https://labcontent.simplicdn.net/data-content/content-assets/Data_and_AI/Applied_Machine_Learning/Images/0.8_Decision_Trees_and_Random_Forest/Trainer_PPT_and_IPYNB/DT1.JPG)\n",
    "\n",
    "\n",
    "* Decision tree is a tree-like structure in which the internal node represents the test on an attribute.\n",
    "\n",
    "* The topmost node in a decision tree is known as the root node. It learns to partition based on the attribute value.\n",
    "\n",
    "* Each branch represents the outcome of the test and each leaf node represents the class label.\n",
    "\n",
    "* A path from root to leaf represents the classification rules."
   ]
  },
  {
   "cell_type": "markdown",
   "metadata": {
    "id": "K0oo4gMSLZ8Y"
   },
   "source": [
    "#### **Splitting:**\n",
    "\n",
    "* If pure node is detected, it can be classified as leaf node.\n",
    "* If impure node is detected, the best attribute is selected and splitting is continued until a pure node is detected.\n",
    "\n"
   ]
  },
  {
   "cell_type": "markdown",
   "metadata": {
    "id": "8aXpv-sZMtiL"
   },
   "source": [
    "#### **Example:**\n",
    "\n",
    "Form a decision tree to check if the match will be played or not based on climatic conditions\n",
    "\n",
    "<br>\n",
    "\n",
    "![DT2](https://labcontent.simplicdn.net/data-content/content-assets/Data_and_AI/Applied_Machine_Learning/Images/0.8_Decision_Trees_and_Random_Forest/Trainer_PPT_and_IPYNB/DT2.JPG)"
   ]
  },
  {
   "cell_type": "markdown",
   "metadata": {
    "id": "ab55LVWMkFsg"
   },
   "source": [
    "\n",
    "\n",
    "```\n",
    "# This is formatted as code\n",
    "```\n",
    "\n",
    "#### **1. Entropy and Information Gain**"
   ]
  },
  {
   "cell_type": "markdown",
   "metadata": {
    "id": "Y0GJz_PYWpkE"
   },
   "source": [
    "  ![DT3](https://labcontent.simplicdn.net/data-content/content-assets/Data_and_AI/Applied_Machine_Learning/Images/0.8_Decision_Trees_and_Random_Forest/Trainer_PPT_and_IPYNB/DT3.JPG)"
   ]
  },
  {
   "cell_type": "markdown",
   "metadata": {
    "id": "vhgGQm-kkJWR"
   },
   "source": [
    "\n",
    "\n",
    "Let us consider an example where:\n",
    "* Sample for humidity = [High, Normal] = [9+, 5-]\n",
    "\n",
    "* Sample for wind = [Weak, Strong] = [9+,5-]\n",
    "<br><br>\n",
    "\n",
    "**a. Calculate gain:**\n",
    "\n",
    "  ![DT4](https://labcontent.simplicdn.net/data-content/content-assets/Data_and_AI/Applied_Machine_Learning/Images/0.8_Decision_Trees_and_Random_Forest/Trainer_PPT_and_IPYNB/DT4.JPG)\n",
    "\n",
    "\n",
    "**b. Select highest gain:**\n",
    "\n",
    "  ![DT5](https://labcontent.simplicdn.net/data-content/content-assets/Data_and_AI/Applied_Machine_Learning/Images/0.8_Decision_Trees_and_Random_Forest/Trainer_PPT_and_IPYNB/DT5.JPG)\n",
    "\n",
    "**c. Inference:**\n",
    "\n",
    "* Humidity provides the best prediction for the target\n",
    "* For each possible value of Humidity, you can add a successor to the tree\n",
    "\n"
   ]
  },
  {
   "cell_type": "markdown",
   "metadata": {
    "id": "dsjD3dJIo2tW"
   },
   "source": [
    "#### **Overfitting and Pruning**"
   ]
  },
  {
   "cell_type": "markdown",
   "metadata": {
    "id": "Yi0K3A_Uo844"
   },
   "source": [
    "##### **Overfitting:**\n",
    "\n",
    "Overfitting refers to the unwanted behavior of a machine learning algorithm. It occurs when a model's performance on the training dataset improves at the expense of poor performance on non-training data, such as a holdout test dataset or new data. By testing a machine learning model on both the training dataset and a hold-out dataset, we can determine whether a machine learning model is overfitted. If the performance of the model on the training dataset is significantly better than the performance on the test dataset, then the model may have overfitted the training dataset.\n",
    "\n",
    "---\n",
    "  ![DT6](https://labcontent.simplicdn.net/data-content/content-assets/Data_and_AI/Applied_Machine_Learning/Images/0.8_Decision_Trees_and_Random_Forest/Trainer_PPT_and_IPYNB/DT6.JPG)\n",
    "\n",
    "\n",
    "##### **Pruning:**\n",
    "\n",
    "* The removal of the sub-tree at a node is called pruning. \n",
    "* It is performed iteratively until the tree shows maximum accuracy.\n",
    "* There are two ways to perform pruning:\n",
    "  * Stop the development of the tree at an early stage, i.e., before perfect classification\n",
    "\n",
    "  * Allow overfitting and later prune the tree\n",
    "\n",
    "  ![DT7](https://labcontent.simplicdn.net/data-content/content-assets/Data_and_AI/Applied_Machine_Learning/Images/0.8_Decision_Trees_and_Random_Forest/Trainer_PPT_and_IPYNB/DT7.JPG)"
   ]
  },
  {
   "cell_type": "markdown",
   "metadata": {
    "id": "SDV5EPWlRcCf"
   },
   "source": [
    "#### **2. Gini Index**"
   ]
  },
  {
   "cell_type": "markdown",
   "metadata": {
    "id": "Ib-JzO98SzGo"
   },
   "source": [
    "The Gini Index is a metric that measures the likelihood that a randomly chosen element will be incorrectly identified. It means an attribute with a low Gini index should be preferred. The decision tree algorithm aims to achieve partitions in the terminal nodes as pure as possible. The Gini index is one method used to achieve this. \n",
    "* It is calculated by subtracting the sum of the squared probabilities of each class from one. \n",
    "\n",
    "\n",
    " ##### **Formula:**\n",
    "$$Gini(D)=1-\\sum_{i=1}^{C}\\ (p_i)^2$$\n",
    "\n",
    "  Where, $p_i$ is the probability that a tuple in $D$ belongs to class $C_i$."
   ]
  },
  {
   "cell_type": "markdown",
   "metadata": {
    "id": "AAQDBObuaNK6"
   },
   "source": [
    "* It uses a binary split for every variable where, weighted sum of the impurity of each partition is computed in splitting.\n",
    "  \n",
    "  ##### **Example:**\n",
    "  \n",
    "  Binary split on variable A partitions data D into D1 and D2.\n",
    "\n",
    "  What is the Gini index of D?\n",
    "\n",
    "  $$Gini_A(D)= \\frac{|D_1|}{|D|}\\ Gini(D_1)\\ + \\frac{|D_2|}{|D|}\\ Gini(D_2)$$"
   ]
  },
  {
   "cell_type": "markdown",
   "metadata": {
    "id": "VIumnWfkf3Kw"
   },
   "source": [
    "* In case of a discrete-valued attribute, the subset that gives the minimum gini index is selected as a splitting attribute. In the case of continuous-valued attributes, the strategy is to select each pair of adjacent values as a possible split-point and point with smaller gini index chosen as the splitting point."
   ]
  },
  {
   "cell_type": "markdown",
   "metadata": {
    "id": "eCke-OVQaNVD"
   },
   "source": [
    "##### **Features:**\n",
    "\n",
    "* Gini index favors larger partitions.\n",
    "* It uses the squared proportion of the classes.\n",
    "* Gini index is perfectly classified when it is zero."
   ]
  },
  {
   "cell_type": "markdown",
   "metadata": {
    "id": "cyxUCNuhgaWG"
   },
   "source": [
    "### **Random Forest**"
   ]
  },
  {
   "cell_type": "markdown",
   "metadata": {
    "id": "7baQuXrMoDTA"
   },
   "source": [
    "Random Forests is a supervised machine learning algorithm used in classification and regression problems. It builds decision trees for different samples and takes the majority for classification and the average for regression.\n",
    "\n",
    "##### **Features:** \n",
    "* Runs efficiently on larger databases\n",
    "* Handles thousands of input variables without variable deletion\n",
    "* Provides an estimate of what variables are important in the classification\n",
    "* Provides a method to detect variable interactions experimentally\n",
    "\n",
    "Let us extrapolate from the previous topic and discuss the concepts of random forest."
   ]
  },
  {
   "cell_type": "markdown",
   "metadata": {
    "id": "WUSSwa2koeh7"
   },
   "source": [
    "### **Bagging and Bootstrapping**\n",
    "\n",
    "![RF1](https://labcontent.simplicdn.net/data-content/content-assets/Data_and_AI/Applied_Machine_Learning/Images/0.8_Decision_Trees_and_Random_Forest/Trainer_PPT_and_IPYNB/RF1.JPG)"
   ]
  },
  {
   "cell_type": "markdown",
   "metadata": {
    "id": "AvA7U-BUozvM"
   },
   "source": [
    "#### **Road to random forest classifier:**\n",
    "\n",
    "**1. Create bootstrap samples from the training data**\n",
    "\n",
    "  ![RF2](https://labcontent.simplicdn.net/data-content/content-assets/Data_and_AI/Applied_Machine_Learning/Images/0.8_Decision_Trees_and_Random_Forest/Trainer_PPT_and_IPYNB/RF2.JPG)\n",
    "\n",
    "\n",
    "**2. Each sample contributes to a decision tree classifier**\n",
    "\n",
    "  ![RF3](https://labcontent.simplicdn.net/data-content/content-assets/Data_and_AI/Applied_Machine_Learning/Images/0.8_Decision_Trees_and_Random_Forest/Trainer_PPT_and_IPYNB/RF3.JPG)\n",
    "\n",
    "\n",
    "**3. Majority vote is taken by using the various trees generated from various bootstrap samples**\n",
    "\n",
    "  ![RF4](https://labcontent.simplicdn.net/data-content/content-assets/Data_and_AI/Applied_Machine_Learning/Images/0.8_Decision_Trees_and_Random_Forest/Trainer_PPT_and_IPYNB/RF4.JPG)"
   ]
  },
  {
   "cell_type": "markdown",
   "metadata": {
    "id": "8wnm4ydz6OzP"
   },
   "source": [
    "## **Use Case: Decision Tree vs. Random Forest**\n"
   ]
  },
  {
   "cell_type": "markdown",
   "metadata": {
    "id": "ZU-gSMTb6ywv"
   },
   "source": [
    "**Problem statement:** \n",
    "PeerLoanKart is an NBFC (non-banking financial company) that facilitates peer-to-peer loans. \n",
    "It connects people who need money (borrowers) with people who have money (investors). As an investor, you would want to invest in people who showed a profile of having a high probability of paying you back. \n",
    "Create a model that will help predict whether a borrower will repay the loan. "
   ]
  },
  {
   "cell_type": "markdown",
   "metadata": {
    "id": "d0GCt1xb66-B"
   },
   "source": [
    "**Analysis to be done:** Increase profits by up to 20% as NPAs will be reduced due to loan disbursal to creditworthy borrowers only"
   ]
  },
  {
   "cell_type": "markdown",
   "metadata": {
    "id": "BxZ2BD9x7LYx"
   },
   "source": [
    "### Import Libraries"
   ]
  },
  {
   "cell_type": "code",
   "execution_count": 12,
   "metadata": {
    "id": "fbBNBCkv7XUs"
   },
   "outputs": [],
   "source": [
    "# Importing libraries\n",
    "import pandas as pd\n",
    "import numpy as np\n",
    "import matplotlib.pyplot as plt\n",
    "import seaborn as sns\n",
    "%matplotlib inline\n",
    "from sklearn.model_selection import train_test_split\n"
   ]
  },
  {
   "cell_type": "markdown",
   "metadata": {
    "id": "uWKdMSTx8LJw"
   },
   "source": [
    "### Import Data"
   ]
  },
  {
   "cell_type": "code",
   "execution_count": 13,
   "metadata": {
    "id": "UwVWsZXh8oNo"
   },
   "outputs": [
    {
     "data": {
      "text/html": [
       "<div><div id=62c83cf6-c4e7-475b-aaed-f24b9aeceb5b style=\"display:none; background-color:#9D6CFF; color:white; width:200px; height:30px; padding-left:5px; border-radius:4px; flex-direction:row; justify-content:space-around; align-items:center;\" onmouseover=\"this.style.backgroundColor='#BA9BF8'\" onmouseout=\"this.style.backgroundColor='#9D6CFF'\" onclick=\"window.commands?.execute('create-mitosheet-from-dataframe-output');\">See Full Dataframe in Mito</div> <script> if (window.commands?.hasCommand('create-mitosheet-from-dataframe-output')) document.getElementById('62c83cf6-c4e7-475b-aaed-f24b9aeceb5b').style.display = 'flex' </script> <table border=\"1\" class=\"dataframe\">\n",
       "  <thead>\n",
       "    <tr style=\"text-align: right;\">\n",
       "      <th></th>\n",
       "      <th>credit.policy</th>\n",
       "      <th>int.rate</th>\n",
       "      <th>installment</th>\n",
       "      <th>log.annual.inc</th>\n",
       "      <th>dti</th>\n",
       "      <th>fico</th>\n",
       "      <th>days.with.cr.line</th>\n",
       "      <th>revol.bal</th>\n",
       "      <th>revol.util</th>\n",
       "      <th>inq.last.6mths</th>\n",
       "      <th>delinq.2yrs</th>\n",
       "      <th>pub.rec</th>\n",
       "      <th>not.fully.paid</th>\n",
       "    </tr>\n",
       "  </thead>\n",
       "  <tbody>\n",
       "    <tr>\n",
       "      <th>count</th>\n",
       "      <td>9578.000000</td>\n",
       "      <td>9578.000000</td>\n",
       "      <td>9578.000000</td>\n",
       "      <td>9578.000000</td>\n",
       "      <td>9578.000000</td>\n",
       "      <td>9578.000000</td>\n",
       "      <td>9578.000000</td>\n",
       "      <td>9.578000e+03</td>\n",
       "      <td>9578.000000</td>\n",
       "      <td>9578.000000</td>\n",
       "      <td>9578.000000</td>\n",
       "      <td>9578.000000</td>\n",
       "      <td>9578.000000</td>\n",
       "    </tr>\n",
       "    <tr>\n",
       "      <th>mean</th>\n",
       "      <td>0.804970</td>\n",
       "      <td>0.122640</td>\n",
       "      <td>319.089413</td>\n",
       "      <td>10.932117</td>\n",
       "      <td>12.606679</td>\n",
       "      <td>710.846314</td>\n",
       "      <td>4560.767197</td>\n",
       "      <td>1.691396e+04</td>\n",
       "      <td>46.799236</td>\n",
       "      <td>1.577469</td>\n",
       "      <td>0.163708</td>\n",
       "      <td>0.062122</td>\n",
       "      <td>0.160054</td>\n",
       "    </tr>\n",
       "    <tr>\n",
       "      <th>std</th>\n",
       "      <td>0.396245</td>\n",
       "      <td>0.026847</td>\n",
       "      <td>207.071301</td>\n",
       "      <td>0.614813</td>\n",
       "      <td>6.883970</td>\n",
       "      <td>37.970537</td>\n",
       "      <td>2496.930377</td>\n",
       "      <td>3.375619e+04</td>\n",
       "      <td>29.014417</td>\n",
       "      <td>2.200245</td>\n",
       "      <td>0.546215</td>\n",
       "      <td>0.262126</td>\n",
       "      <td>0.366676</td>\n",
       "    </tr>\n",
       "    <tr>\n",
       "      <th>min</th>\n",
       "      <td>0.000000</td>\n",
       "      <td>0.060000</td>\n",
       "      <td>15.670000</td>\n",
       "      <td>7.547502</td>\n",
       "      <td>0.000000</td>\n",
       "      <td>612.000000</td>\n",
       "      <td>178.958333</td>\n",
       "      <td>0.000000e+00</td>\n",
       "      <td>0.000000</td>\n",
       "      <td>0.000000</td>\n",
       "      <td>0.000000</td>\n",
       "      <td>0.000000</td>\n",
       "      <td>0.000000</td>\n",
       "    </tr>\n",
       "    <tr>\n",
       "      <th>25%</th>\n",
       "      <td>1.000000</td>\n",
       "      <td>0.103900</td>\n",
       "      <td>163.770000</td>\n",
       "      <td>10.558414</td>\n",
       "      <td>7.212500</td>\n",
       "      <td>682.000000</td>\n",
       "      <td>2820.000000</td>\n",
       "      <td>3.187000e+03</td>\n",
       "      <td>22.600000</td>\n",
       "      <td>0.000000</td>\n",
       "      <td>0.000000</td>\n",
       "      <td>0.000000</td>\n",
       "      <td>0.000000</td>\n",
       "    </tr>\n",
       "    <tr>\n",
       "      <th>50%</th>\n",
       "      <td>1.000000</td>\n",
       "      <td>0.122100</td>\n",
       "      <td>268.950000</td>\n",
       "      <td>10.928884</td>\n",
       "      <td>12.665000</td>\n",
       "      <td>707.000000</td>\n",
       "      <td>4139.958333</td>\n",
       "      <td>8.596000e+03</td>\n",
       "      <td>46.300000</td>\n",
       "      <td>1.000000</td>\n",
       "      <td>0.000000</td>\n",
       "      <td>0.000000</td>\n",
       "      <td>0.000000</td>\n",
       "    </tr>\n",
       "    <tr>\n",
       "      <th>75%</th>\n",
       "      <td>1.000000</td>\n",
       "      <td>0.140700</td>\n",
       "      <td>432.762500</td>\n",
       "      <td>11.291293</td>\n",
       "      <td>17.950000</td>\n",
       "      <td>737.000000</td>\n",
       "      <td>5730.000000</td>\n",
       "      <td>1.824950e+04</td>\n",
       "      <td>70.900000</td>\n",
       "      <td>2.000000</td>\n",
       "      <td>0.000000</td>\n",
       "      <td>0.000000</td>\n",
       "      <td>0.000000</td>\n",
       "    </tr>\n",
       "    <tr>\n",
       "      <th>max</th>\n",
       "      <td>1.000000</td>\n",
       "      <td>0.216400</td>\n",
       "      <td>940.140000</td>\n",
       "      <td>14.528354</td>\n",
       "      <td>29.960000</td>\n",
       "      <td>827.000000</td>\n",
       "      <td>17639.958330</td>\n",
       "      <td>1.207359e+06</td>\n",
       "      <td>119.000000</td>\n",
       "      <td>33.000000</td>\n",
       "      <td>13.000000</td>\n",
       "      <td>5.000000</td>\n",
       "      <td>1.000000</td>\n",
       "    </tr>\n",
       "  </tbody>\n",
       "</table></div>"
      ],
      "text/plain": [
       "       credit.policy     int.rate  installment  log.annual.inc          dti  \\\n",
       "count    9578.000000  9578.000000  9578.000000     9578.000000  9578.000000   \n",
       "mean        0.804970     0.122640   319.089413       10.932117    12.606679   \n",
       "std         0.396245     0.026847   207.071301        0.614813     6.883970   \n",
       "min         0.000000     0.060000    15.670000        7.547502     0.000000   \n",
       "25%         1.000000     0.103900   163.770000       10.558414     7.212500   \n",
       "50%         1.000000     0.122100   268.950000       10.928884    12.665000   \n",
       "75%         1.000000     0.140700   432.762500       11.291293    17.950000   \n",
       "max         1.000000     0.216400   940.140000       14.528354    29.960000   \n",
       "\n",
       "              fico  days.with.cr.line     revol.bal   revol.util  \\\n",
       "count  9578.000000        9578.000000  9.578000e+03  9578.000000   \n",
       "mean    710.846314        4560.767197  1.691396e+04    46.799236   \n",
       "std      37.970537        2496.930377  3.375619e+04    29.014417   \n",
       "min     612.000000         178.958333  0.000000e+00     0.000000   \n",
       "25%     682.000000        2820.000000  3.187000e+03    22.600000   \n",
       "50%     707.000000        4139.958333  8.596000e+03    46.300000   \n",
       "75%     737.000000        5730.000000  1.824950e+04    70.900000   \n",
       "max     827.000000       17639.958330  1.207359e+06   119.000000   \n",
       "\n",
       "       inq.last.6mths  delinq.2yrs      pub.rec  not.fully.paid  \n",
       "count     9578.000000  9578.000000  9578.000000     9578.000000  \n",
       "mean         1.577469     0.163708     0.062122        0.160054  \n",
       "std          2.200245     0.546215     0.262126        0.366676  \n",
       "min          0.000000     0.000000     0.000000        0.000000  \n",
       "25%          0.000000     0.000000     0.000000        0.000000  \n",
       "50%          1.000000     0.000000     0.000000        0.000000  \n",
       "75%          2.000000     0.000000     0.000000        0.000000  \n",
       "max         33.000000    13.000000     5.000000        1.000000  "
      ]
     },
     "execution_count": 13,
     "metadata": {},
     "output_type": "execute_result"
    }
   ],
   "source": [
    "# Importing the dataset\n",
    "loans = pd.read_csv('./loan_borowwer_data.csv')\n",
    "loans.describe()"
   ]
  },
  {
   "cell_type": "markdown",
   "metadata": {
    "id": "C09y9uHi88us"
   },
   "source": [
    "### Exploratory Data Analysis\n",
    "Create a histogram of two FICO distributions on top of each other, one for each credit.policy outcome.\n"
   ]
  },
  {
   "cell_type": "code",
   "execution_count": 3,
   "metadata": {
    "id": "sYHyDLHI9Hbs"
   },
   "outputs": [
    {
     "data": {
      "text/plain": [
       "Text(0.5, 0, 'FICO')"
      ]
     },
     "execution_count": 3,
     "metadata": {},
     "output_type": "execute_result"
    },
    {
     "data": {
      "image/png": "[encoded data removed]",
      "text/plain": [
       "<Figure size 720x432 with 1 Axes>"
      ]
     },
     "metadata": {
      "needs_background": "light"
     },
     "output_type": "display_data"
    }
   ],
   "source": [
    "# Creating a histogram\n",
    "plt.figure(figsize=(10,6))\n",
    "loans[loans['credit.policy']==1]['fico'].hist(alpha=0.5,color='blue',  bins=30,label='Credit.Policy=1')\n",
    "loans[loans['credit.policy']==0]['fico'].hist(alpha=0.5,color='red', bins=30,label='Credit.Policy=0')\n",
    "plt.legend()\n",
    "plt.xlabel('FICO')"
   ]
  },
  {
   "cell_type": "markdown",
   "metadata": {
    "id": "vADn2jkA9ZM1"
   },
   "source": [
    "Create a similar figure; select the **not.fully.paid** column."
   ]
  },
  {
   "cell_type": "code",
   "execution_count": 4,
   "metadata": {
    "id": "43XMPQrM9Vpx"
   },
   "outputs": [
    {
     "data": {
      "text/plain": [
       "Text(0.5, 0, 'FICO')"
      ]
     },
     "execution_count": 4,
     "metadata": {},
     "output_type": "execute_result"
    },
    {
     "data": {
      "image/png": "[encoded data removed]",
      "text/plain": [
       "<Figure size 720x432 with 1 Axes>"
      ]
     },
     "metadata": {
      "needs_background": "light"
     },
     "output_type": "display_data"
    }
   ],
   "source": [
    "plt.figure(figsize=(10,6))\n",
    "loans[loans['not.fully.paid']==1]['fico'].hist(alpha=0.5,color='blue', bins=30,label='not.fully.paid=1')\n",
    "loans[loans['not.fully.paid']==0]['fico'].hist(alpha=0.5,color='red', bins=30,label='not.fully.paid=0')\n",
    "plt.legend()\n",
    "plt.xlabel('FICO')"
   ]
  },
  {
   "cell_type": "markdown",
   "metadata": {
    "id": "aKkexen19nnp"
   },
   "source": [
    "Create a countplot using seaborn showing the counts of loans by purpose with the hue defined by **not.fully.paid**.\n",
    "\n"
   ]
  },
  {
   "cell_type": "code",
   "execution_count": 5,
   "metadata": {
    "id": "nX0tpWwN9XAd"
   },
   "outputs": [
    {
     "data": {
      "text/plain": [
       "<AxesSubplot:xlabel='purpose', ylabel='count'>"
      ]
     },
     "execution_count": 5,
     "metadata": {},
     "output_type": "execute_result"
    },
    {
     "data": {
      "image/png": "[encoded data removed]",
      "text/plain": [
       "<Figure size 792x504 with 1 Axes>"
      ]
     },
     "metadata": {
      "needs_background": "light"
     },
     "output_type": "display_data"
    }
   ],
   "source": [
    "# Creating countplot\n",
    "plt.figure(figsize=(11,7))\n",
    "sns.countplot(x='purpose',hue='not.fully.paid',data=loans,palette='Set1')"
   ]
  },
  {
   "cell_type": "markdown",
   "metadata": {
    "id": "oBeRLsxn91KH"
   },
   "source": [
    "### Setting Up the Data\n",
    "Create a list of elements containing the string **purpose**. Name this list **cat_feats**."
   ]
  },
  {
   "cell_type": "code",
   "execution_count": 14,
   "metadata": {
    "id": "xb9EsE3I957j"
   },
   "outputs": [],
   "source": [
    "cat_feats = ['purpose']"
   ]
  },
  {
   "cell_type": "markdown",
   "metadata": {
    "id": "4R80ZbyA-EAw"
   },
   "source": [
    "Now use **pd.get_dummies (loans,columns=cat_feats,drop_first=True)** to create a fixed and larger data frame that has new feature columns with dummy variables. Name this data frame **final_data**.\n"
   ]
  },
  {
   "cell_type": "code",
   "execution_count": 15,
   "metadata": {
    "id": "lE2xPGxK-E_J"
   },
   "outputs": [
    {
     "name": "stdout",
     "output_type": "stream",
     "text": [
      "<class 'pandas.core.frame.DataFrame'>\n",
      "RangeIndex: 9578 entries, 0 to 9577\n",
      "Data columns (total 19 columns):\n",
      " #   Column                      Non-Null Count  Dtype  \n",
      "---  ------                      --------------  -----  \n",
      " 0   credit.policy               9578 non-null   int64  \n",
      " 1   int.rate                    9578 non-null   float64\n",
      " 2   installment                 9578 non-null   float64\n",
      " 3   log.annual.inc              9578 non-null   float64\n",
      " 4   dti                         9578 non-null   float64\n",
      " 5   fico                        9578 non-null   int64  \n",
      " 6   days.with.cr.line           9578 non-null   float64\n",
      " 7   revol.bal                   9578 non-null   int64  \n",
      " 8   revol.util                  9578 non-null   float64\n",
      " 9   inq.last.6mths              9578 non-null   int64  \n",
      " 10  delinq.2yrs                 9578 non-null   int64  \n",
      " 11  pub.rec                     9578 non-null   int64  \n",
      " 12  not.fully.paid              9578 non-null   int64  \n",
      " 13  purpose_credit_card         9578 non-null   uint8  \n",
      " 14  purpose_debt_consolidation  9578 non-null   uint8  \n",
      " 15  purpose_educational         9578 non-null   uint8  \n",
      " 16  purpose_home_improvement    9578 non-null   uint8  \n",
      " 17  purpose_major_purchase      9578 non-null   uint8  \n",
      " 18  purpose_small_business      9578 non-null   uint8  \n",
      "dtypes: float64(6), int64(7), uint8(6)\n",
      "memory usage: 1.0 MB\n"
     ]
    }
   ],
   "source": [
    "final_data = pd.get_dummies(loans,columns=cat_feats,drop_first=True)\n",
    "final_data.info()"
   ]
  },
  {
   "cell_type": "markdown",
   "metadata": {
    "id": "7B7ym3hj-QQi"
   },
   "source": [
    "### Train-Test Split"
   ]
  },
  {
   "cell_type": "markdown",
   "metadata": {
    "id": "agWHMsnTNV-n"
   },
   "source": [
    "Let us distribute the data into **training** and **test** datasets using the **train_test_split()** function."
   ]
  },
  {
   "cell_type": "code",
   "execution_count": 16,
   "metadata": {
    "id": "EJFThy0M-SH5"
   },
   "outputs": [],
   "source": [
    "X = final_data.drop('not.fully.paid',axis=1)\n",
    "y = final_data['not.fully.paid']\n",
    "X_train, X_test, y_train, y_test = train_test_split(X, y, test_size=0.30, random_state=101)"
   ]
  },
  {
   "cell_type": "markdown",
   "metadata": {
    "id": "Z5CsgVHo-ZiY"
   },
   "source": [
    "### Training Decision Tree Model\n"
   ]
  },
  {
   "cell_type": "markdown",
   "metadata": {
    "id": "b_5JMRwWNV-p"
   },
   "source": [
    "Let us create a **DecisionTreeClassifier** from **sklearn.tree**."
   ]
  },
  {
   "cell_type": "code",
   "execution_count": 17,
   "metadata": {
    "id": "IdXV-5ug-bnt"
   },
   "outputs": [
    {
     "data": {
      "text/html": [
       "<style>#sk-container-id-2 {color: black;background-color: white;}#sk-container-id-2 pre{padding: 0;}#sk-container-id-2 div.sk-toggleable {background-color: white;}#sk-container-id-2 label.sk-toggleable__label {cursor: pointer;display: block;width: 100%;margin-bottom: 0;padding: 0.3em;box-sizing: border-box;text-align: center;}#sk-container-id-2 label.sk-toggleable__label-arrow:before {content: \"▸\";float: left;margin-right: 0.25em;color: #696969;}#sk-container-id-2 label.sk-toggleable__label-arrow:hover:before {color: black;}#sk-container-id-2 div.sk-estimator:hover label.sk-toggleable__label-arrow:before {color: black;}#sk-container-id-2 div.sk-toggleable__content {max-height: 0;max-width: 0;overflow: hidden;text-align: left;background-color: #f0f8ff;}#sk-container-id-2 div.sk-toggleable__content pre {margin: 0.2em;color: black;border-radius: 0.25em;background-color: #f0f8ff;}#sk-container-id-2 input.sk-toggleable__control:checked~div.sk-toggleable__content {max-height: 200px;max-width: 100%;overflow: auto;}#sk-container-id-2 input.sk-toggleable__control:checked~label.sk-toggleable__label-arrow:before {content: \"▾\";}#sk-container-id-2 div.sk-estimator input.sk-toggleable__control:checked~label.sk-toggleable__label {background-color: #d4ebff;}#sk-container-id-2 div.sk-label input.sk-toggleable__control:checked~label.sk-toggleable__label {background-color: #d4ebff;}#sk-container-id-2 input.sk-hidden--visually {border: 0;clip: rect(1px 1px 1px 1px);clip: rect(1px, 1px, 1px, 1px);height: 1px;margin: -1px;overflow: hidden;padding: 0;position: absolute;width: 1px;}#sk-container-id-2 div.sk-estimator {font-family: monospace;background-color: #f0f8ff;border: 1px dotted black;border-radius: 0.25em;box-sizing: border-box;margin-bottom: 0.5em;}#sk-container-id-2 div.sk-estimator:hover {background-color: #d4ebff;}#sk-container-id-2 div.sk-parallel-item::after {content: \"\";width: 100%;border-bottom: 1px solid gray;flex-grow: 1;}#sk-container-id-2 div.sk-label:hover label.sk-toggleable__label {background-color: #d4ebff;}#sk-container-id-2 div.sk-serial::before {content: \"\";position: absolute;border-left: 1px solid gray;box-sizing: border-box;top: 0;bottom: 0;left: 50%;z-index: 0;}#sk-container-id-2 div.sk-serial {display: flex;flex-direction: column;align-items: center;background-color: white;padding-right: 0.2em;padding-left: 0.2em;position: relative;}#sk-container-id-2 div.sk-item {position: relative;z-index: 1;}#sk-container-id-2 div.sk-parallel {display: flex;align-items: stretch;justify-content: center;background-color: white;position: relative;}#sk-container-id-2 div.sk-item::before, #sk-container-id-2 div.sk-parallel-item::before {content: \"\";position: absolute;border-left: 1px solid gray;box-sizing: border-box;top: 0;bottom: 0;left: 50%;z-index: -1;}#sk-container-id-2 div.sk-parallel-item {display: flex;flex-direction: column;z-index: 1;position: relative;background-color: white;}#sk-container-id-2 div.sk-parallel-item:first-child::after {align-self: flex-end;width: 50%;}#sk-container-id-2 div.sk-parallel-item:last-child::after {align-self: flex-start;width: 50%;}#sk-container-id-2 div.sk-parallel-item:only-child::after {width: 0;}#sk-container-id-2 div.sk-dashed-wrapped {border: 1px dashed gray;margin: 0 0.4em 0.5em 0.4em;box-sizing: border-box;padding-bottom: 0.4em;background-color: white;}#sk-container-id-2 div.sk-label label {font-family: monospace;font-weight: bold;display: inline-block;line-height: 1.2em;}#sk-container-id-2 div.sk-label-container {text-align: center;}#sk-container-id-2 div.sk-container {/* jupyter's `normalize.less` sets `[hidden] { display: none; }` but bootstrap.min.css set `[hidden] { display: none !important; }` so we also need the `!important` here to be able to override the default hidden behavior on the sphinx rendered scikit-learn.org. See: https://github.com/scikit-learn/scikit-learn/issues/21755 */display: inline-block !important;position: relative;}#sk-container-id-2 div.sk-text-repr-fallback {display: none;}</style><div id=\"sk-container-id-2\" class=\"sk-top-container\"><div class=\"sk-text-repr-fallback\"><pre>DecisionTreeClassifier()</pre><b>In a Jupyter environment, please rerun this cell to show the HTML representation or trust the notebook. <br />On GitHub, the HTML representation is unable to render, please try loading this page with nbviewer.org.</b></div><div class=\"sk-container\" hidden><div class=\"sk-item\"><div class=\"sk-estimator sk-toggleable\"><input class=\"sk-toggleable__control sk-hidden--visually\" id=\"sk-estimator-id-2\" type=\"checkbox\" checked><label for=\"sk-estimator-id-2\" class=\"sk-toggleable__label sk-toggleable__label-arrow\">DecisionTreeClassifier</label><div class=\"sk-toggleable__content\"><pre>DecisionTreeClassifier()</pre></div></div></div></div></div>"
      ],
      "text/plain": [
       "DecisionTreeClassifier()"
      ]
     },
     "execution_count": 17,
     "metadata": {},
     "output_type": "execute_result"
    }
   ],
   "source": [
    "# Decision tree model\n",
    "from sklearn.tree import DecisionTreeClassifier\n",
    "dtree = DecisionTreeClassifier() # \n",
    "dtree.fit(X_train,y_train)"
   ]
  },
  {
   "cell_type": "markdown",
   "metadata": {
    "id": "Y3rgtFPt-jDp"
   },
   "source": [
    "### Evaluating Decision Tree\n",
    "Let us create a classification report for the **DecisionTreeClassifier** we created earlier."
   ]
  },
  {
   "cell_type": "code",
   "execution_count": 18,
   "metadata": {
    "id": "P4VXtpcf-uj5"
   },
   "outputs": [
    {
     "name": "stdout",
     "output_type": "stream",
     "text": [
      "              precision    recall  f1-score   support\n",
      "\n",
      "           0       0.85      0.82      0.84      2431\n",
      "           1       0.19      0.23      0.21       443\n",
      "\n",
      "    accuracy                           0.73      2874\n",
      "   macro avg       0.52      0.52      0.52      2874\n",
      "weighted avg       0.75      0.73      0.74      2874\n",
      "\n"
     ]
    }
   ],
   "source": [
    "# Classification report\n",
    "predictions = dtree.predict(X_test)\n",
    "from sklearn.metrics import classification_report,confusion_matrix\n",
    "print(classification_report(y_test,predictions))"
   ]
  },
  {
   "cell_type": "markdown",
   "metadata": {
    "id": "o9jyUo3s-90e"
   },
   "source": [
    "### Confusion Matrix"
   ]
  },
  {
   "cell_type": "code",
   "execution_count": 19,
   "metadata": {
    "id": "6GDKF3cC-_ck"
   },
   "outputs": [
    {
     "name": "stdout",
     "output_type": "stream",
     "text": [
      "[[1992  439]\n",
      " [ 341  102]]\n"
     ]
    }
   ],
   "source": [
    "# Creating a confusion matrix\n",
    "print(confusion_matrix(y_test,predictions))"
   ]
  },
  {
   "cell_type": "markdown",
   "metadata": {
    "id": "KtqpkqSUAmK2"
   },
   "source": [
    "### **Conclusion**\n",
    "From the above use case, we can see that the accuracy of random forest is better than decision tree."
   ]
  },
  {
   "cell_type": "markdown",
   "metadata": {
    "id": "RKGGe2p2aPKD"
   },
   "source": [
    "**Note: In this lesson, we saw the use of the decision trees and random forest methods, but in the next lesson we will be working on \"Unsupervised Learning\".**"
   ]
  },
  {
   "cell_type": "markdown",
   "metadata": {
    "id": "ZlmPd32prmX-"
   },
   "source": [
    "![Simplilearn_Logo](https://labcontent.simplicdn.net/data-content/content-assets/Data_and_AI/Logo_Powered_By_Simplilearn/SL_Logo_1.png)"
   ]
  }
 ],
 "metadata": {
  "colab": {
   "collapsed_sections": [],
   "name": "4.01_Decision_Trees_and Random_Forest.ipynb",
   "private_outputs": true,
   "provenance": []
  },
  "kernelspec": {
   "display_name": "Python 3 (ipykernel)",
   "language": "python",
   "name": "python3"
  },
  "language_info": {
   "codemirror_mode": {
    "name": "ipython",
    "version": 3
   },
   "file_extension": ".py",
   "mimetype": "text/x-python",
   "name": "python",
   "nbconvert_exporter": "python",
   "pygments_lexer": "ipython3",
   "version": "3.9.7"
  }
 },
 "nbformat": 4,
 "nbformat_minor": 1
}
